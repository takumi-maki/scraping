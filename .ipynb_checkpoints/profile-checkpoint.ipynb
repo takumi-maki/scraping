{
 "cells": [
  {
   "cell_type": "code",
   "execution_count": 30,
   "id": "christian-pepper",
   "metadata": {},
   "outputs": [],
   "source": [
    "from selenium import webdriver\n",
    "import chromedriver_binary"
   ]
  },
  {
   "cell_type": "code",
   "execution_count": 31,
   "id": "funded-hundred",
   "metadata": {},
   "outputs": [],
   "source": [
    "browser = webdriver.Chrome()"
   ]
  },
  {
   "cell_type": "code",
   "execution_count": 32,
   "id": "expressed-receptor",
   "metadata": {},
   "outputs": [],
   "source": [
    "browser.get(\"https://scraping-for-beginner.herokuapp.com/login_page\")"
   ]
  },
  {
   "cell_type": "code",
   "execution_count": 33,
   "id": "residential-stomach",
   "metadata": {},
   "outputs": [],
   "source": [
    "# 要素を指定\n",
    "elem_username = browser.find_element_by_id('username')"
   ]
  },
  {
   "cell_type": "code",
   "execution_count": 34,
   "id": "tamil-wilson",
   "metadata": {},
   "outputs": [
    {
     "data": {
      "text/plain": [
       "<selenium.webdriver.remote.webelement.WebElement (session=\"93ef7f60d189b61bf03f139e77a0ab86\", element=\"06b7c611-e2a6-41a3-8f6c-658bc26e516b\")>"
      ]
     },
     "execution_count": 34,
     "metadata": {},
     "output_type": "execute_result"
    }
   ],
   "source": [
    "elem_username"
   ]
  },
  {
   "cell_type": "code",
   "execution_count": 35,
   "id": "delayed-communist",
   "metadata": {},
   "outputs": [],
   "source": [
    "elem_username.send_keys('imanishi')"
   ]
  },
  {
   "cell_type": "code",
   "execution_count": 36,
   "id": "based-touch",
   "metadata": {},
   "outputs": [],
   "source": [
    "elem_password = browser.find_element_by_id('password')"
   ]
  },
  {
   "cell_type": "code",
   "execution_count": 37,
   "id": "efficient-tennis",
   "metadata": {},
   "outputs": [],
   "source": [
    "elem_password.send_keys('kohei')"
   ]
  },
  {
   "cell_type": "code",
   "execution_count": 38,
   "id": "instant-butter",
   "metadata": {},
   "outputs": [],
   "source": [
    "# <button type=\"submit\" name=\"btn_login\" id=\"login-btn\" class=\"col s8 offset-s2 btn btn-large waves-effect\">Login</button>\n",
    "elem_login_btn = browser.find_element_by_id('login-btn')"
   ]
  },
  {
   "cell_type": "code",
   "execution_count": 39,
   "id": "suffering-buyer",
   "metadata": {},
   "outputs": [],
   "source": [
    "elem_login_btn.click()"
   ]
  },
  {
   "cell_type": "code",
   "execution_count": 40,
   "id": "designed-patrol",
   "metadata": {},
   "outputs": [],
   "source": [
    "# <td id=\"name\">今西 航平</td>\n",
    "elem = browser.find_element_by_id('name')"
   ]
  },
  {
   "cell_type": "code",
   "execution_count": 41,
   "id": "mineral-validation",
   "metadata": {},
   "outputs": [
    {
     "data": {
      "text/plain": [
       "'今西 航平'"
      ]
     },
     "execution_count": 41,
     "metadata": {},
     "output_type": "execute_result"
    }
   ],
   "source": [
    "elem.text"
   ]
  },
  {
   "cell_type": "code",
   "execution_count": 42,
   "id": "southeast-dream",
   "metadata": {},
   "outputs": [],
   "source": [
    "# <td id=\"company\">株式会社キカガク</td>\n",
    "elem = browser.find_element_by_id('company')"
   ]
  },
  {
   "cell_type": "code",
   "execution_count": 43,
   "id": "adjustable-wisconsin",
   "metadata": {},
   "outputs": [
    {
     "data": {
      "text/plain": [
       "'株式会社キカガク'"
      ]
     },
     "execution_count": 43,
     "metadata": {},
     "output_type": "execute_result"
    }
   ],
   "source": [
    "elem.text"
   ]
  },
  {
   "cell_type": "code",
   "execution_count": 44,
   "id": "classified-muslim",
   "metadata": {},
   "outputs": [],
   "source": [
    "# <td id=\"birthday\">1994年7月15日</td>\n",
    "elem = browser.find_element_by_id('birthday')"
   ]
  },
  {
   "cell_type": "code",
   "execution_count": 45,
   "id": "altered-transformation",
   "metadata": {},
   "outputs": [
    {
     "data": {
      "text/plain": [
       "'1994年7月15日'"
      ]
     },
     "execution_count": 45,
     "metadata": {},
     "output_type": "execute_result"
    }
   ],
   "source": [
    "elem.text"
   ]
  },
  {
   "cell_type": "code",
   "execution_count": 46,
   "id": "similar-ukraine",
   "metadata": {},
   "outputs": [],
   "source": [
    "# <td id=\"come_from\">千葉県</td>\n",
    "elem = browser.find_element_by_id('come_from')"
   ]
  },
  {
   "cell_type": "code",
   "execution_count": 47,
   "id": "statistical-caribbean",
   "metadata": {},
   "outputs": [
    {
     "data": {
      "text/plain": [
       "'千葉県'"
      ]
     },
     "execution_count": 47,
     "metadata": {},
     "output_type": "execute_result"
    }
   ],
   "source": [
    "elem.text"
   ]
  },
  {
   "cell_type": "code",
   "execution_count": 48,
   "id": "subjective-malawi",
   "metadata": {},
   "outputs": [],
   "source": [
    "# <td id=\"hobby\">バスケットボール<br>読書<br>ガジェット集め</td>\n",
    "elem = browser.find_element_by_id('hobby')"
   ]
  },
  {
   "cell_type": "code",
   "execution_count": 51,
   "id": "vulnerable-agreement",
   "metadata": {},
   "outputs": [
    {
     "data": {
      "text/plain": [
       "'バスケットボール 読書 ガジェット集め'"
      ]
     },
     "execution_count": 51,
     "metadata": {},
     "output_type": "execute_result"
    }
   ],
   "source": [
    "# \\n を取り除いた情報を取得(replace()を活用) \n",
    "hobby = elem.text\n",
    "hobby.replace(\"\\n\", \" \")"
   ]
  },
  {
   "cell_type": "code",
   "execution_count": 52,
   "id": "honest-matthew",
   "metadata": {},
   "outputs": [],
   "source": [
    "# thタグを参照 １つだけ取得\n",
    "elem_th = browser.find_element_by_tag_name('th')"
   ]
  },
  {
   "cell_type": "code",
   "execution_count": 53,
   "id": "statutory-section",
   "metadata": {},
   "outputs": [
    {
     "data": {
      "text/plain": [
       "'講師名'"
      ]
     },
     "execution_count": 53,
     "metadata": {},
     "output_type": "execute_result"
    }
   ],
   "source": [
    "elem_th.text"
   ]
  },
  {
   "cell_type": "code",
   "execution_count": 76,
   "id": "billion-tampa",
   "metadata": {},
   "outputs": [],
   "source": [
    "# thタグを参照　一括取得\n",
    "elems_th = browser.find_elements_by_tag_name('th')\n",
    "keys = []\n",
    "for elem_th in elems_th:\n",
    "    key = elem_th.text\n",
    "    keys.append(key)"
   ]
  },
  {
   "cell_type": "code",
   "execution_count": 77,
   "id": "incident-healthcare",
   "metadata": {},
   "outputs": [
    {
     "data": {
      "text/plain": [
       "['講師名', '所属企業', '生年月日', '出身', '趣味']"
      ]
     },
     "execution_count": 77,
     "metadata": {},
     "output_type": "execute_result"
    }
   ],
   "source": [
    "keys\n"
   ]
  },
  {
   "cell_type": "code",
   "execution_count": 93,
   "id": "computational-bosnia",
   "metadata": {},
   "outputs": [],
   "source": [
    "# tdタグを取得 一括取得\n",
    "elems_td = browser.find_elements_by_tag_name('td')\n",
    "values = []\n",
    "for elem_td in elems_td:\n",
    "    value = elem_td.text\n",
    "    values.append(value)\n",
    "    "
   ]
  },
  {
   "cell_type": "code",
   "execution_count": 94,
   "id": "ambient-prison",
   "metadata": {},
   "outputs": [
    {
     "data": {
      "text/plain": [
       "['今西 航平', '株式会社キカガク', '1994年7月15日', '千葉県', 'バスケットボール\\n読書\\nガジェット集め']"
      ]
     },
     "execution_count": 94,
     "metadata": {},
     "output_type": "execute_result"
    }
   ],
   "source": [
    "values"
   ]
  },
  {
   "cell_type": "code",
   "execution_count": 95,
   "id": "capital-curve",
   "metadata": {},
   "outputs": [],
   "source": [
    "import pandas as pd"
   ]
  },
  {
   "cell_type": "code",
   "execution_count": 96,
   "id": "incident-reference",
   "metadata": {},
   "outputs": [],
   "source": [
    "#　空のData.Frame を定義\n",
    "df = pd.DataFrame()"
   ]
  },
  {
   "cell_type": "code",
   "execution_count": 97,
   "id": "fiscal-screw",
   "metadata": {},
   "outputs": [],
   "source": [
    "df['項目'] = keys\n",
    "df['値'] = values"
   ]
  },
  {
   "cell_type": "code",
   "execution_count": 98,
   "id": "coordinate-session",
   "metadata": {},
   "outputs": [
    {
     "data": {
      "text/html": [
       "<div>\n",
       "<style scoped>\n",
       "    .dataframe tbody tr th:only-of-type {\n",
       "        vertical-align: middle;\n",
       "    }\n",
       "\n",
       "    .dataframe tbody tr th {\n",
       "        vertical-align: top;\n",
       "    }\n",
       "\n",
       "    .dataframe thead th {\n",
       "        text-align: right;\n",
       "    }\n",
       "</style>\n",
       "<table border=\"1\" class=\"dataframe\">\n",
       "  <thead>\n",
       "    <tr style=\"text-align: right;\">\n",
       "      <th></th>\n",
       "      <th>項目</th>\n",
       "      <th>値</th>\n",
       "    </tr>\n",
       "  </thead>\n",
       "  <tbody>\n",
       "    <tr>\n",
       "      <th>0</th>\n",
       "      <td>講師名</td>\n",
       "      <td>今西 航平</td>\n",
       "    </tr>\n",
       "    <tr>\n",
       "      <th>1</th>\n",
       "      <td>所属企業</td>\n",
       "      <td>株式会社キカガク</td>\n",
       "    </tr>\n",
       "    <tr>\n",
       "      <th>2</th>\n",
       "      <td>生年月日</td>\n",
       "      <td>1994年7月15日</td>\n",
       "    </tr>\n",
       "    <tr>\n",
       "      <th>3</th>\n",
       "      <td>出身</td>\n",
       "      <td>千葉県</td>\n",
       "    </tr>\n",
       "    <tr>\n",
       "      <th>4</th>\n",
       "      <td>趣味</td>\n",
       "      <td>バスケットボール\\n読書\\nガジェット集め</td>\n",
       "    </tr>\n",
       "  </tbody>\n",
       "</table>\n",
       "</div>"
      ],
      "text/plain": [
       "     項目                      値\n",
       "0   講師名                  今西 航平\n",
       "1  所属企業               株式会社キカガク\n",
       "2  生年月日             1994年7月15日\n",
       "3    出身                    千葉県\n",
       "4    趣味  バスケットボール\\n読書\\nガジェット集め"
      ]
     },
     "execution_count": 98,
     "metadata": {},
     "output_type": "execute_result"
    }
   ],
   "source": [
    "df"
   ]
  },
  {
   "cell_type": "code",
   "execution_count": 99,
   "id": "attractive-origin",
   "metadata": {},
   "outputs": [],
   "source": [
    "df.to_csv('講師情報.csv', index=False)"
   ]
  },
  {
   "cell_type": "code",
   "execution_count": null,
   "id": "ongoing-shirt",
   "metadata": {},
   "outputs": [],
   "source": []
  },
  {
   "cell_type": "code",
   "execution_count": null,
   "id": "small-interval",
   "metadata": {},
   "outputs": [],
   "source": []
  },
  {
   "cell_type": "code",
   "execution_count": 28,
   "id": "overhead-consent",
   "metadata": {},
   "outputs": [],
   "source": [
    "browser.quit()"
   ]
  }
 ],
 "metadata": {
  "kernelspec": {
   "display_name": "Python 3",
   "language": "python",
   "name": "python3"
  },
  "language_info": {
   "codemirror_mode": {
    "name": "ipython",
    "version": 3
   },
   "file_extension": ".py",
   "mimetype": "text/x-python",
   "name": "python",
   "nbconvert_exporter": "python",
   "pygments_lexer": "ipython3",
   "version": "3.8.8"
  }
 },
 "nbformat": 4,
 "nbformat_minor": 5
}
