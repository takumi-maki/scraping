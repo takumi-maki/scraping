{
 "cells": [
  {
   "cell_type": "code",
   "execution_count": 2,
   "id": "objective-monaco",
   "metadata": {},
   "outputs": [],
   "source": [
    "from selenium import webdriver\n",
    "import chromedriver_binary\n",
    "browser = webdriver.Chrome()\n",
    "browser.get('https://scraping-for-beginner.herokuapp.com/ranking/')"
   ]
  },
  {
   "cell_type": "code",
   "execution_count": 3,
   "id": "starting-record",
   "metadata": {},
   "outputs": [],
   "source": [
    "elem_rankingBox = browser.find_element_by_class_name('u_areaListRankingBox')"
   ]
  },
  {
   "cell_type": "code",
   "execution_count": 12,
   "id": "requested-water",
   "metadata": {},
   "outputs": [
    {
     "data": {
      "text/plain": [
       "'1\\n観光地 1'"
      ]
     },
     "execution_count": 12,
     "metadata": {},
     "output_type": "execute_result"
    }
   ],
   "source": [
    "elem_title = elem_rankingBox.find_element_by_class_name('u_title')\n",
    "elem_title.text"
   ]
  },
  {
   "cell_type": "code",
   "execution_count": 9,
   "id": "phantom-clothing",
   "metadata": {},
   "outputs": [
    {
     "data": {
      "text/plain": [
       "'1\\n観光地 1'"
      ]
     },
     "execution_count": 9,
     "metadata": {},
     "output_type": "execute_result"
    }
   ],
   "source": [
    "title = elem_title.text\n",
    "title"
   ]
  },
  {
   "cell_type": "code",
   "execution_count": 11,
   "id": "unable-civilization",
   "metadata": {},
   "outputs": [
    {
     "data": {
      "text/plain": [
       "'観光地 1'"
      ]
     },
     "execution_count": 11,
     "metadata": {},
     "output_type": "execute_result"
    }
   ],
   "source": [
    "title.split('\\n')[1]"
   ]
  },
  {
   "cell_type": "code",
   "execution_count": 41,
   "id": "engaging-sweden",
   "metadata": {},
   "outputs": [
    {
     "data": {
      "text/plain": [
       "<selenium.webdriver.remote.webelement.WebElement (session=\"eeaedc6388076c761a684cbd939190a0\", element=\"b50cc74c-f207-4b34-b0d5-ddc0b65e593b\")>"
      ]
     },
     "execution_count": 41,
     "metadata": {},
     "output_type": "execute_result"
    }
   ],
   "source": [
    "# <span class=\"evaluateNumber\">4.7</span>\n",
    "elem = browser.find_element_by_class_name('u_rankBox')\n",
    "elem.find_element_by_class_name('evaluateNumber')"
   ]
  },
  {
   "cell_type": "code",
   "execution_count": 43,
   "id": "ongoing-burner",
   "metadata": {},
   "outputs": [],
   "source": [
    "#### 各項目の評価を取得"
   ]
  },
  {
   "cell_type": "code",
   "execution_count": 45,
   "id": "accompanied-night",
   "metadata": {},
   "outputs": [],
   "source": [
    "#<div class=\"u_categoryTipsItem col s12\">\n",
    "elem = browser.find_element_by_class_name('u_categoryTipsItem')"
   ]
  },
  {
   "cell_type": "code",
   "execution_count": 54,
   "id": "therapeutic-reminder",
   "metadata": {},
   "outputs": [],
   "source": [
    "elem = browser.find_elements_by_class_name('is_rank')[1]\n",
    "elem = elem.find_element_by_class_name('evaluateNumber')"
   ]
  },
  {
   "cell_type": "code",
   "execution_count": 55,
   "id": "collective-allen",
   "metadata": {},
   "outputs": [
    {
     "data": {
      "text/plain": [
       "'4.5'"
      ]
     },
     "execution_count": 55,
     "metadata": {},
     "output_type": "execute_result"
    }
   ],
   "source": [
    "elem.text"
   ]
  },
  {
   "cell_type": "code",
   "execution_count": 57,
   "id": "popular-variety",
   "metadata": {},
   "outputs": [
    {
     "data": {
      "text/plain": [
       "'4.9'"
      ]
     },
     "execution_count": 57,
     "metadata": {},
     "output_type": "execute_result"
    }
   ],
   "source": [
    "# 景色\n",
    "elem = browser.find_elements_by_class_name('is_rank')[2]\n",
    "elem = elem.find_element_by_class_name('evaluateNumber')\n",
    "elem.text"
   ]
  },
  {
   "cell_type": "code",
   "execution_count": 58,
   "id": "cardiovascular-throat",
   "metadata": {},
   "outputs": [
    {
     "data": {
      "text/plain": [
       "'4.2'"
      ]
     },
     "execution_count": 58,
     "metadata": {},
     "output_type": "execute_result"
    }
   ],
   "source": [
    "# アクセス　\n",
    "elem = browser.find_elements_by_class_name('is_rank')[3]\n",
    "elem = elem.find_element_by_class_name('evaluateNumber')\n",
    "elem.text"
   ]
  },
  {
   "cell_type": "code",
   "execution_count": 76,
   "id": "rapid-quick",
   "metadata": {},
   "outputs": [
    {
     "data": {
      "text/plain": [
       "'1\\n観光地 1'"
      ]
     },
     "execution_count": 76,
     "metadata": {},
     "output_type": "execute_result"
    }
   ],
   "source": [
    "# <div class=\"u_areaListRankingBox row\"> タイトル\n",
    "elem_rankingBox = browser.find_element_by_class_name('u_areaListRankingBox')\n",
    "elem_title = elem_rankingBox.find_element_by_class_name('u_title').find_element_by_tag_name('h2')\n",
    "elem_title.text"
   ]
  },
  {
   "cell_type": "code",
   "execution_count": 82,
   "id": "better-reggae",
   "metadata": {},
   "outputs": [
    {
     "data": {
      "text/plain": [
       "10"
      ]
     },
     "execution_count": 82,
     "metadata": {},
     "output_type": "execute_result"
    }
   ],
   "source": [
    "\n",
    "len(elems_rankingBox)"
   ]
  },
  {
   "cell_type": "code",
   "execution_count": 200,
   "id": "incoming-subscriber",
   "metadata": {},
   "outputs": [],
   "source": [
    "elems_rankingBox = browser.find_elements_by_class_name('u_areaListRankingBox')\n",
    "# 全ての観光地名を格納するリスト　titlesを用意\n",
    "titles = []\n",
    "for elem_rankingBox in elems_rankingBox:\n",
    "    elem_title = elem_rankingBox.find_element_by_class_name('u_title')\n",
    "    title = elem_title.text.split('\\n')[1]\n",
    "    titles.append(title)\n"
   ]
  },
  {
   "cell_type": "code",
   "execution_count": 195,
   "id": "sustainable-ghana",
   "metadata": {},
   "outputs": [
    {
     "data": {
      "text/plain": [
       "[4.7, 4.7, 4.6, 4.5, 4.5, 4.4, 4.3, 4.3, 4.2, 4.1]"
      ]
     },
     "execution_count": 195,
     "metadata": {},
     "output_type": "execute_result"
    }
   ],
   "source": [
    "#### 総合評価\n",
    "elems_rank = browser.find_elements_by_class_name('u_rankBox')\n",
    "# len(elems_rank)\n",
    "ranks = []\n",
    "for elem_rank in elems_rank:\n",
    "    elem_rank = elem_rank.find_element_by_class_name('evaluateNumber')\n",
    "    rank = float(elem_rank.text)\n",
    "    ranks.append(float(rank))\n",
    "ranks"
   ]
  },
  {
   "cell_type": "code",
   "execution_count": 169,
   "id": "surrounded-heavy",
   "metadata": {},
   "outputs": [],
   "source": [
    "#### レビューを取得\n",
    "elems = browser.find_elements_by_class_name('u_categoryTipsItem')"
   ]
  },
  {
   "cell_type": "code",
   "execution_count": 178,
   "id": "biological-commitment",
   "metadata": {},
   "outputs": [
    {
     "data": {
      "text/plain": [
       "[[4.6, 4.5, 4.9, 4.2],\n",
       " [4.6, 4.5, 4.9, 4.2],\n",
       " [4.5, 4.4, 4.8, 4.1],\n",
       " [4.4, 4.4, 4.8, 4.0],\n",
       " [4.4, 4.3, 4.7, 4.0],\n",
       " [4.3, 4.3, 4.7, 3.9],\n",
       " [4.2, 4.2, 4.6, 3.8],\n",
       " [4.2, 4.2, 4.6, 3.8],\n",
       " [4.1, 4.1, 4.5, 3.7],\n",
       " [4.0, 4.1, 4.4, 3.6]]"
      ]
     },
     "execution_count": 178,
     "metadata": {},
     "output_type": "execute_result"
    }
   ],
   "source": [
    "categories = []\n",
    "for elem in elems:\n",
    "    elems_rank = elem.find_elements_by_class_name('is_rank')\n",
    "    \n",
    "    _ranks = []\n",
    "    for elem_rank in elems_rank:\n",
    "        rank = elem_rank.find_element_by_class_name('evaluateNumber').text\n",
    "        _ranks.append(float(rank))\n",
    "    categories.append(_ranks)\n",
    "categories"
   ]
  },
  {
   "cell_type": "code",
   "execution_count": 202,
   "id": "retained-evans",
   "metadata": {},
   "outputs": [],
   "source": [
    "#### pandasの形式に変換\n",
    "import pandas as pd"
   ]
  },
  {
   "cell_type": "code",
   "execution_count": 206,
   "id": "minute-jaguar",
   "metadata": {},
   "outputs": [
    {
     "data": {
      "text/html": [
       "<div>\n",
       "<style scoped>\n",
       "    .dataframe tbody tr th:only-of-type {\n",
       "        vertical-align: middle;\n",
       "    }\n",
       "\n",
       "    .dataframe tbody tr th {\n",
       "        vertical-align: top;\n",
       "    }\n",
       "\n",
       "    .dataframe thead th {\n",
       "        text-align: right;\n",
       "    }\n",
       "</style>\n",
       "<table border=\"1\" class=\"dataframe\">\n",
       "  <thead>\n",
       "    <tr style=\"text-align: right;\">\n",
       "      <th></th>\n",
       "    </tr>\n",
       "  </thead>\n",
       "  <tbody>\n",
       "  </tbody>\n",
       "</table>\n",
       "</div>"
      ],
      "text/plain": [
       "Empty DataFrame\n",
       "Columns: []\n",
       "Index: []"
      ]
     },
     "execution_count": 206,
     "metadata": {},
     "output_type": "execute_result"
    }
   ],
   "source": [
    "df = pd.DataFrame()"
   ]
  },
  {
   "cell_type": "code",
   "execution_count": 207,
   "id": "future-trick",
   "metadata": {},
   "outputs": [],
   "source": [
    "df['観光地名'] = titles\n",
    "df['総合評価'] = ranks"
   ]
  },
  {
   "cell_type": "code",
   "execution_count": 215,
   "id": "hybrid-vector",
   "metadata": {},
   "outputs": [
    {
     "data": {
      "text/html": [
       "<div>\n",
       "<style scoped>\n",
       "    .dataframe tbody tr th:only-of-type {\n",
       "        vertical-align: middle;\n",
       "    }\n",
       "\n",
       "    .dataframe tbody tr th {\n",
       "        vertical-align: top;\n",
       "    }\n",
       "\n",
       "    .dataframe thead th {\n",
       "        text-align: right;\n",
       "    }\n",
       "</style>\n",
       "<table border=\"1\" class=\"dataframe\">\n",
       "  <thead>\n",
       "    <tr style=\"text-align: right;\">\n",
       "      <th></th>\n",
       "      <th>楽しさ</th>\n",
       "      <th>人混みの多さ</th>\n",
       "      <th>景色</th>\n",
       "      <th>アクセス</th>\n",
       "    </tr>\n",
       "  </thead>\n",
       "  <tbody>\n",
       "    <tr>\n",
       "      <th>0</th>\n",
       "      <td>4.6</td>\n",
       "      <td>4.5</td>\n",
       "      <td>4.9</td>\n",
       "      <td>4.2</td>\n",
       "    </tr>\n",
       "    <tr>\n",
       "      <th>1</th>\n",
       "      <td>4.6</td>\n",
       "      <td>4.5</td>\n",
       "      <td>4.9</td>\n",
       "      <td>4.2</td>\n",
       "    </tr>\n",
       "    <tr>\n",
       "      <th>2</th>\n",
       "      <td>4.5</td>\n",
       "      <td>4.4</td>\n",
       "      <td>4.8</td>\n",
       "      <td>4.1</td>\n",
       "    </tr>\n",
       "    <tr>\n",
       "      <th>3</th>\n",
       "      <td>4.4</td>\n",
       "      <td>4.4</td>\n",
       "      <td>4.8</td>\n",
       "      <td>4.0</td>\n",
       "    </tr>\n",
       "    <tr>\n",
       "      <th>4</th>\n",
       "      <td>4.4</td>\n",
       "      <td>4.3</td>\n",
       "      <td>4.7</td>\n",
       "      <td>4.0</td>\n",
       "    </tr>\n",
       "    <tr>\n",
       "      <th>5</th>\n",
       "      <td>4.3</td>\n",
       "      <td>4.3</td>\n",
       "      <td>4.7</td>\n",
       "      <td>3.9</td>\n",
       "    </tr>\n",
       "    <tr>\n",
       "      <th>6</th>\n",
       "      <td>4.2</td>\n",
       "      <td>4.2</td>\n",
       "      <td>4.6</td>\n",
       "      <td>3.8</td>\n",
       "    </tr>\n",
       "    <tr>\n",
       "      <th>7</th>\n",
       "      <td>4.2</td>\n",
       "      <td>4.2</td>\n",
       "      <td>4.6</td>\n",
       "      <td>3.8</td>\n",
       "    </tr>\n",
       "    <tr>\n",
       "      <th>8</th>\n",
       "      <td>4.1</td>\n",
       "      <td>4.1</td>\n",
       "      <td>4.5</td>\n",
       "      <td>3.7</td>\n",
       "    </tr>\n",
       "    <tr>\n",
       "      <th>9</th>\n",
       "      <td>4.0</td>\n",
       "      <td>4.1</td>\n",
       "      <td>4.4</td>\n",
       "      <td>3.6</td>\n",
       "    </tr>\n",
       "  </tbody>\n",
       "</table>\n",
       "</div>"
      ],
      "text/plain": [
       "   楽しさ  人混みの多さ   景色  アクセス\n",
       "0  4.6     4.5  4.9   4.2\n",
       "1  4.6     4.5  4.9   4.2\n",
       "2  4.5     4.4  4.8   4.1\n",
       "3  4.4     4.4  4.8   4.0\n",
       "4  4.4     4.3  4.7   4.0\n",
       "5  4.3     4.3  4.7   3.9\n",
       "6  4.2     4.2  4.6   3.8\n",
       "7  4.2     4.2  4.6   3.8\n",
       "8  4.1     4.1  4.5   3.7\n",
       "9  4.0     4.1  4.4   3.6"
      ]
     },
     "execution_count": 215,
     "metadata": {},
     "output_type": "execute_result"
    }
   ],
   "source": [
    "df_categories = pd.DataFrame(categories)\n",
    "df_categories.columns = ['楽しさ', '人混みの多さ', '景色', 'アクセス']\n",
    "df_categories"
   ]
  },
  {
   "cell_type": "code",
   "execution_count": 216,
   "id": "consistent-ambassador",
   "metadata": {},
   "outputs": [
    {
     "data": {
      "text/html": [
       "<div>\n",
       "<style scoped>\n",
       "    .dataframe tbody tr th:only-of-type {\n",
       "        vertical-align: middle;\n",
       "    }\n",
       "\n",
       "    .dataframe tbody tr th {\n",
       "        vertical-align: top;\n",
       "    }\n",
       "\n",
       "    .dataframe thead th {\n",
       "        text-align: right;\n",
       "    }\n",
       "</style>\n",
       "<table border=\"1\" class=\"dataframe\">\n",
       "  <thead>\n",
       "    <tr style=\"text-align: right;\">\n",
       "      <th></th>\n",
       "      <th>観光地名</th>\n",
       "      <th>総合評価</th>\n",
       "      <th>楽しさ</th>\n",
       "      <th>人混みの多さ</th>\n",
       "      <th>景色</th>\n",
       "      <th>アクセス</th>\n",
       "    </tr>\n",
       "  </thead>\n",
       "  <tbody>\n",
       "    <tr>\n",
       "      <th>0</th>\n",
       "      <td>観光地 1</td>\n",
       "      <td>4.7</td>\n",
       "      <td>4.6</td>\n",
       "      <td>4.5</td>\n",
       "      <td>4.9</td>\n",
       "      <td>4.2</td>\n",
       "    </tr>\n",
       "    <tr>\n",
       "      <th>1</th>\n",
       "      <td>観光地 2</td>\n",
       "      <td>4.7</td>\n",
       "      <td>4.6</td>\n",
       "      <td>4.5</td>\n",
       "      <td>4.9</td>\n",
       "      <td>4.2</td>\n",
       "    </tr>\n",
       "    <tr>\n",
       "      <th>2</th>\n",
       "      <td>観光地 3</td>\n",
       "      <td>4.6</td>\n",
       "      <td>4.5</td>\n",
       "      <td>4.4</td>\n",
       "      <td>4.8</td>\n",
       "      <td>4.1</td>\n",
       "    </tr>\n",
       "    <tr>\n",
       "      <th>3</th>\n",
       "      <td>観光地 4</td>\n",
       "      <td>4.5</td>\n",
       "      <td>4.4</td>\n",
       "      <td>4.4</td>\n",
       "      <td>4.8</td>\n",
       "      <td>4.0</td>\n",
       "    </tr>\n",
       "    <tr>\n",
       "      <th>4</th>\n",
       "      <td>観光地 5</td>\n",
       "      <td>4.5</td>\n",
       "      <td>4.4</td>\n",
       "      <td>4.3</td>\n",
       "      <td>4.7</td>\n",
       "      <td>4.0</td>\n",
       "    </tr>\n",
       "    <tr>\n",
       "      <th>5</th>\n",
       "      <td>観光地 6</td>\n",
       "      <td>4.4</td>\n",
       "      <td>4.3</td>\n",
       "      <td>4.3</td>\n",
       "      <td>4.7</td>\n",
       "      <td>3.9</td>\n",
       "    </tr>\n",
       "    <tr>\n",
       "      <th>6</th>\n",
       "      <td>観光地 7</td>\n",
       "      <td>4.3</td>\n",
       "      <td>4.2</td>\n",
       "      <td>4.2</td>\n",
       "      <td>4.6</td>\n",
       "      <td>3.8</td>\n",
       "    </tr>\n",
       "    <tr>\n",
       "      <th>7</th>\n",
       "      <td>観光地 8</td>\n",
       "      <td>4.3</td>\n",
       "      <td>4.2</td>\n",
       "      <td>4.2</td>\n",
       "      <td>4.6</td>\n",
       "      <td>3.8</td>\n",
       "    </tr>\n",
       "    <tr>\n",
       "      <th>8</th>\n",
       "      <td>観光地 9</td>\n",
       "      <td>4.2</td>\n",
       "      <td>4.1</td>\n",
       "      <td>4.1</td>\n",
       "      <td>4.5</td>\n",
       "      <td>3.7</td>\n",
       "    </tr>\n",
       "    <tr>\n",
       "      <th>9</th>\n",
       "      <td>観光地 10</td>\n",
       "      <td>4.1</td>\n",
       "      <td>4.0</td>\n",
       "      <td>4.1</td>\n",
       "      <td>4.4</td>\n",
       "      <td>3.6</td>\n",
       "    </tr>\n",
       "  </tbody>\n",
       "</table>\n",
       "</div>"
      ],
      "text/plain": [
       "     観光地名  総合評価  楽しさ  人混みの多さ   景色  アクセス\n",
       "0   観光地 1   4.7  4.6     4.5  4.9   4.2\n",
       "1   観光地 2   4.7  4.6     4.5  4.9   4.2\n",
       "2   観光地 3   4.6  4.5     4.4  4.8   4.1\n",
       "3   観光地 4   4.5  4.4     4.4  4.8   4.0\n",
       "4   観光地 5   4.5  4.4     4.3  4.7   4.0\n",
       "5   観光地 6   4.4  4.3     4.3  4.7   3.9\n",
       "6   観光地 7   4.3  4.2     4.2  4.6   3.8\n",
       "7   観光地 8   4.3  4.2     4.2  4.6   3.8\n",
       "8   観光地 9   4.2  4.1     4.1  4.5   3.7\n",
       "9  観光地 10   4.1  4.0     4.1  4.4   3.6"
      ]
     },
     "execution_count": 216,
     "metadata": {},
     "output_type": "execute_result"
    }
   ],
   "source": [
    "df = pd.concat([df, df_categories], axis=1)"
   ]
  },
  {
   "cell_type": "code",
   "execution_count": null,
   "id": "sharp-mathematics",
   "metadata": {},
   "outputs": [],
   "source": []
  },
  {
   "cell_type": "code",
   "execution_count": null,
   "id": "forced-kernel",
   "metadata": {},
   "outputs": [],
   "source": []
  }
 ],
 "metadata": {
  "kernelspec": {
   "display_name": "Python 3",
   "language": "python",
   "name": "python3"
  },
  "language_info": {
   "codemirror_mode": {
    "name": "ipython",
    "version": 3
   },
   "file_extension": ".py",
   "mimetype": "text/x-python",
   "name": "python",
   "nbconvert_exporter": "python",
   "pygments_lexer": "ipython3",
   "version": "3.8.8"
  }
 },
 "nbformat": 4,
 "nbformat_minor": 5
}
